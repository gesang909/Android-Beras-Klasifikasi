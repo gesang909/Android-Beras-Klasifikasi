{
 "cells": [
  {
   "cell_type": "markdown",
   "metadata": {},
   "source": [
    "1. Mengimport semua library yang diperlukan"
   ]
  },
  {
   "cell_type": "code",
   "execution_count": 1,
   "metadata": {},
   "outputs": [],
   "source": [
    "import matplotlib.pyplot as plt\n",
    "import cv2\n",
    "import numpy as np\n",
    "from sklearn.metrics import classification_report, confusion_matrix\n",
    "\n",
    "import tensorflow as tf\n",
    "import keras as K\n",
    "from tensorflow.keras import layers\n",
    "from tensorflow.keras.models import Model\n",
    "from tensorflow.keras.preprocessing.image import ImageDataGenerator\n",
    "import matplotlib.pyplot as plt"
   ]
  },
  {
   "cell_type": "code",
   "execution_count": null,
   "metadata": {},
   "outputs": [],
   "source": []
  },
  {
   "cell_type": "markdown",
   "metadata": {},
   "source": [
    "2. Mengambil data dari direktori local"
   ]
  },
  {
   "cell_type": "code",
   "execution_count": 2,
   "metadata": {},
   "outputs": [
    {
     "name": "stdout",
     "output_type": "stream",
     "text": [
      "(3120, 4160, 3)\n"
     ]
    }
   ],
   "source": [
    "\n",
    "base_ds = 'C:\\\\Users\\\\Gesang\\\\Desktop\\\\Dataset Beras\\\\Campuran'\n",
    "sample_img1 = cv2.imread('C:\\\\Users\\\\Gesang\\\\Desktop\\\\Dataset Beras\\\\Flashlight\\\\Pulen\\\\IMG20221129091354.jpg')\n",
    "print(sample_img1.shape)\n",
    "\n",
    "target_size = (480,480)\n",
    "input_shape = (480,480,3)\n",
    "batch_size = 8"
   ]
  },
  {
   "cell_type": "markdown",
   "metadata": {},
   "source": [
    "3. Pembagian Data Train, Validation dan Test menggunakan ImageDataGenerator serta melakukan preprocessing data yaitu horizontal_flip, vertical_flip, rotation_range, fill_mode dan mengubah size dari citra."
   ]
  },
  {
   "cell_type": "code",
   "execution_count": 3,
   "metadata": {},
   "outputs": [
    {
     "name": "stdout",
     "output_type": "stream",
     "text": [
      "Found 1248 images belonging to 2 classes.\n",
      "Found 312 images belonging to 2 classes.\n"
     ]
    }
   ],
   "source": [
    "train_datagen = ImageDataGenerator(rescale=1.0/255,\n",
    "validation_split=0.2,\n",
    "rotation_range=45,\n",
    "width_shift_range=0.25,\n",
    "shear_range=0.25,\n",
    "zoom_range=0.25,\n",
    "horizontal_flip=True,\n",
    "vertical_flip=True,\n",
    "fill_mode='nearest'\n",
    ")\n",
    "\n",
    "train_ds = train_datagen.flow_from_directory(\n",
    "    base_ds,\n",
    "    target_size=target_size,\n",
    "    shuffle=True,\n",
    "    batch_size=batch_size,\n",
    "    class_mode='categorical',\n",
    "    subset='training',\n",
    ")\n",
    "\n",
    "valid_ds = train_datagen.flow_from_directory(\n",
    "    base_ds,\n",
    "    target_size=target_size,\n",
    "    batch_size=batch_size,\n",
    "    class_mode='categorical',\n",
    "    subset='validation'\n",
    ")"
   ]
  },
  {
   "cell_type": "markdown",
   "metadata": {},
   "source": [
    "4. Melakukan transfer learning menggunakan InceptionV3 dengan arsitektur 'imagenet'. Mengatur layers pada pretrained model menjadi false. Lalu memberikan 1 hidden layer tambahan dan fungsi aktivasi berupa relu dan sigmoid, dropout layer dan output layer yaitu Dense 1"
   ]
  },
  {
   "cell_type": "code",
   "execution_count": 4,
   "metadata": {},
   "outputs": [],
   "source": [
    "from tensorflow.keras.applications.inception_v3 import InceptionV3\n",
    "\n",
    "pre_trained_model = InceptionV3(input_shape=input_shape, include_top=False, weights='imagenet')\n",
    "\n",
    "for layer in pre_trained_model.layers:\n",
    "    layer.trainable = False\n",
    "    \n",
    "early_stop=tf.keras.callbacks.EarlyStopping( monitor=\"val_loss\", patience=2, verbose=1, restore_best_weights=True)\n",
    "rlronp=tf.keras.callbacks.ReduceLROnPlateau(monitor=\"val_loss\", factor=0.5,  patience=5, verbose=1,min_lr=0.0001)"
   ]
  },
  {
   "cell_type": "code",
   "execution_count": 5,
   "metadata": {},
   "outputs": [],
   "source": [
    "\n",
    "x = layers.Flatten()(pre_trained_model.output)\n",
    "x = layers.Dense(512, activation='relu')(x)\n",
    "x = layers.Dropout(0.2)(x)\n",
    "x = layers.Dense(2, activation='softmax')(x)\n",
    "\n",
    "model = Model(pre_trained_model.input, x)\n",
    "\n",
    "model.compile(optimizer='adam',\n",
    "    loss='categorical_crossentropy',\n",
    "    metrics=['accuracy'])"
   ]
  },
  {
   "cell_type": "markdown",
   "metadata": {},
   "source": [
    "5. Membuat Callback untuk memastikan model selesai melakukan training saat mencapai akurasi tinggi dan loss rendah. Dilakukan untuk menghindari overfitting. Membuat ModelCheckpoint untuk menyimpan model yang terbaik."
   ]
  },
  {
   "cell_type": "code",
   "execution_count": 6,
   "metadata": {},
   "outputs": [],
   "source": [
    "class myCallback(tf.keras.callbacks.Callback):\n",
    "    def on_epoch_end(self,epoch,logs={}):\n",
    "        if(logs.get(\"accuracy\")>=0.95 and logs.get(\"loss\")<=2):\n",
    "           print(\"\\nReached 90%+ accuracy so canelling training!\")\n",
    "           self.model.stop_training = True\n",
    "           model.save(\"./saved_models_10\")"
   ]
  },
  {
   "cell_type": "code",
   "execution_count": 7,
   "metadata": {},
   "outputs": [],
   "source": [
    "from keras.callbacks import ModelCheckpoint\n",
    "checkpointer = ModelCheckpoint(filepath='saved_models_10/model_inceptionV3_10.h5', \n",
    "                               monitor='loss', mode='min',\n",
    "                               verbose=1, save_best_only=True, save_weights_only=False)"
   ]
  },
  {
   "cell_type": "markdown",
   "metadata": {},
   "source": [
    "6. Melakukan proses training dengan 50 epoch."
   ]
  },
  {
   "cell_type": "code",
   "execution_count": 8,
   "metadata": {},
   "outputs": [
    {
     "name": "stdout",
     "output_type": "stream",
     "text": [
      "Epoch 1/50\n",
      "156/156 [==============================] - 606s 4s/step - loss: 21.6194 - accuracy: 0.8470 - val_loss: 21.7391 - val_accuracy: 0.7500 - lr: 0.0010\n",
      "Epoch 2/50\n",
      "156/156 [==============================] - 618s 4s/step - loss: 4.2028 - accuracy: 0.9127 - val_loss: 6.8516 - val_accuracy: 0.7404 - lr: 0.0010\n",
      "Epoch 3/50\n",
      "156/156 [==============================] - 628s 4s/step - loss: 1.0596 - accuracy: 0.9319 - val_loss: 0.6427 - val_accuracy: 0.8526 - lr: 0.0010\n",
      "Epoch 4/50\n",
      "156/156 [==============================] - 622s 4s/step - loss: 0.2188 - accuracy: 0.9407 - val_loss: 0.4154 - val_accuracy: 0.8654 - lr: 0.0010\n",
      "Epoch 5/50\n",
      "156/156 [==============================] - ETA: 0s - loss: 0.1229 - accuracy: 0.9575\n",
      "Reached 90%+ accuracy so canelling training!\n"
     ]
    },
    {
     "name": "stderr",
     "output_type": "stream",
     "text": [
      "WARNING:absl:Found untraced functions such as _jit_compiled_convolution_op, _jit_compiled_convolution_op, _jit_compiled_convolution_op, _jit_compiled_convolution_op, _jit_compiled_convolution_op while saving (showing 5 of 94). These functions will not be directly callable after loading.\n"
     ]
    },
    {
     "name": "stdout",
     "output_type": "stream",
     "text": [
      "INFO:tensorflow:Assets written to: ./saved_models_10\\assets\n"
     ]
    },
    {
     "name": "stderr",
     "output_type": "stream",
     "text": [
      "INFO:tensorflow:Assets written to: ./saved_models_10\\assets\n"
     ]
    },
    {
     "name": "stdout",
     "output_type": "stream",
     "text": [
      "156/156 [==============================] - 649s 4s/step - loss: 0.1229 - accuracy: 0.9575 - val_loss: 0.2822 - val_accuracy: 0.8782 - lr: 0.0010\n"
     ]
    }
   ],
   "source": [
    "history = model.fit(train_ds,\n",
    "                    validation_data=valid_ds,\n",
    "                    steps_per_epoch=train_ds.samples/batch_size,\n",
    "                    validation_steps=None,\n",
    "                    epochs=50,\n",
    "                    verbose=1,\n",
    "                    callbacks=[myCallback(), rlronp])"
   ]
  },
  {
   "cell_type": "markdown",
   "metadata": {},
   "source": [
    "7. Melakukan visualisasi dari training berupa akurasi, val akurasi, loss, dan val loss."
   ]
  },
  {
   "cell_type": "code",
   "execution_count": 9,
   "metadata": {},
   "outputs": [
    {
     "name": "stdout",
     "output_type": "stream",
     "text": [
      "[0.8469551205635071, 0.9126602411270142, 0.9318910241127014, 0.9407051205635071, 0.9575320482254028]\n"
     ]
    },
    {
     "data": {
      "image/png": "[encoded data removed]",
      "text/plain": [
       "<Figure size 1080x360 with 2 Axes>"
      ]
     },
     "metadata": {
      "needs_background": "light"
     },
     "output_type": "display_data"
    }
   ],
   "source": [
    "print(history.history['accuracy'])\n",
    "def plot_train_history(history):\n",
    "    plt.figure(figsize=(15,5))\n",
    "    plt.subplot(1,2,1)\n",
    "    plt.plot(history.history['accuracy'])\n",
    "    plt.plot(history.history['val_accuracy'])\n",
    "    plt.title('Model accuracy')\n",
    "    plt.ylabel('accuracy')\n",
    "    plt.xlabel('epoch')\n",
    "    plt.legend(['train', 'validation'], loc='upper left')\n",
    "    \n",
    "    plt.subplot(1,2,2)\n",
    "    plt.plot(history.history['loss'])\n",
    "    plt.plot(history.history['val_loss'])\n",
    "    plt.title('Model loss')\n",
    "    plt.ylabel('loss')\n",
    "    plt.xlabel('epoch')\n",
    "    plt.legend(['train', 'validation'], loc='upper left')\n",
    "    plt.show()\n",
    "\n",
    "plot_train_history(history)"
   ]
  },
  {
   "cell_type": "code",
   "execution_count": null,
   "metadata": {},
   "outputs": [],
   "source": []
  },
  {
   "cell_type": "markdown",
   "metadata": {},
   "source": [
    "8. Mengambil model yang sudah di simpan menggunakan load_model dengan pathnya."
   ]
  },
  {
   "cell_type": "code",
   "execution_count": 11,
   "metadata": {},
   "outputs": [],
   "source": [
    "saved_model_path= \"C:\\\\Users\\\\Gesang\\\\Documents\\\\SMT 7\\\\Prak ML\\\\Portofolio\\\\saved_models_10\"\n",
    "loaded_model= tf.keras.models.load_model(saved_model_path)"
   ]
  },
  {
   "cell_type": "markdown",
   "metadata": {},
   "source": [
    "9. Membuat test datagen untuk melakukan testing dari model yang sudah di load."
   ]
  },
  {
   "cell_type": "code",
   "execution_count": 12,
   "metadata": {},
   "outputs": [
    {
     "name": "stdout",
     "output_type": "stream",
     "text": [
      "Found 10 images belonging to 2 classes.\n"
     ]
    }
   ],
   "source": [
    "test_base = 'C:\\\\Users\\\\Gesang\\\\Desktop\\\\Dataset Beras\\\\Test'\n",
    "test_datagen = ImageDataGenerator(rescale=1./255)\n",
    "test_ds = test_datagen.flow_from_directory(\n",
    "    test_base,\n",
    "    target_size=target_size,\n",
    "    # batch_size=batch_size,\n",
    "    class_mode='binary'\n",
    ")"
   ]
  },
  {
   "cell_type": "markdown",
   "metadata": {},
   "source": [
    "10. Evaluasi model menggunakan model.evaluate dengan test_ds."
   ]
  },
  {
   "cell_type": "code",
   "execution_count": 23,
   "metadata": {},
   "outputs": [
    {
     "name": "stdout",
     "output_type": "stream",
     "text": [
      "1/1 [==============================] - 3s 3s/step\n"
     ]
    }
   ],
   "source": [
    "predictions = loaded_model.predict(test_ds,verbose=1)\n",
    "confussion_matrix("
   ]
  },
  {
   "cell_type": "markdown",
   "metadata": {},
   "source": [
    "11. Confussion Matrix pada testing"
   ]
  },
  {
   "cell_type": "code",
   "execution_count": 35,
   "metadata": {
    "tags": []
   },
   "outputs": [
    {
     "name": "stdout",
     "output_type": "stream",
     "text": [
      "1/1 [==============================] - 3s 3s/step\n",
      "[0 0 0 0 0 1 1 1 1 1]\n",
      "[1 0 0 0 0 1 0 1 1 1]\n",
      "[[4 1]\n",
      " [1 4]]\n"
     ]
    }
   ],
   "source": [
    "from sklearn.metrics import confusion_matrix\n",
    "\n",
    "labels=test_ds.labels\n",
    "y_pred=[]\n",
    "predictions = loaded_model.predict(test_ds, verbose=1)\n",
    "for i in predictions:\n",
    "    y_pred.append(np.argmax(i))\n",
    "    \n",
    "y_true=np.array(labels)\n",
    "print(y_true)\n",
    "y_pred=np.array(y_pred)\n",
    "print(y_pred)\n",
    "cm=confusion_matrix(y_true, y_pred)\n",
    "print(cm)"
   ]
  },
  {
   "cell_type": "code",
   "execution_count": 38,
   "metadata": {},
   "outputs": [
    {
     "name": "stdout",
     "output_type": "stream",
     "text": [
      "              precision    recall  f1-score   support\n",
      "\n",
      "           0       0.80      0.80      0.80         5\n",
      "           1       0.80      0.80      0.80         5\n",
      "\n",
      "    accuracy                           0.80        10\n",
      "   macro avg       0.80      0.80      0.80        10\n",
      "weighted avg       0.80      0.80      0.80        10\n",
      "\n"
     ]
    }
   ],
   "source": [
    "from sklearn.metrics import classification_report\n",
    "print(classification_report(y_true, y_pred))"
   ]
  },
  {
   "cell_type": "code",
   "execution_count": null,
   "metadata": {},
   "outputs": [],
   "source": []
  },
  {
   "cell_type": "code",
   "execution_count": 36,
   "metadata": {},
   "outputs": [
    {
     "data": {
      "image/png": "[encoded data removed]",
      "text/plain": [
       "<Figure size 576x576 with 1 Axes>"
      ]
     },
     "metadata": {
      "needs_background": "light"
     },
     "output_type": "display_data"
    }
   ],
   "source": [
    "import seaborn as sns\n",
    "length=2 # two classes\n",
    "plt.figure(figsize=(8, 8))\n",
    "sns.heatmap(cm, annot=True, vmin=0, fmt='g', cmap='Blues', cbar=False)\n",
    "classes=list(test_ds.class_indices.keys())\n",
    "plt.xticks(np.arange(length)+.5, classes, rotation= 90)\n",
    "plt.yticks(np.arange(length)+.5, classes, rotation=0)\n",
    "plt.xlabel(\"Predicted\")\n",
    "plt.ylabel(\"Actual\")\n",
    "plt.title(\"Confusion Matrix\")\n",
    "plt.show()"
   ]
  },
  {
   "cell_type": "markdown",
   "metadata": {},
   "source": [
    "12. Melakukan pre-proses data untuk melakukan prediksi satu per satu sepertihalnya nanti akan dilakukan pada aplikasi android"
   ]
  },
  {
   "cell_type": "code",
   "execution_count": 14,
   "metadata": {},
   "outputs": [],
   "source": [
    "from PIL import Image\n",
    "import numpy as np\n",
    "from skimage import transform"
   ]
  },
  {
   "cell_type": "code",
   "execution_count": 15,
   "metadata": {},
   "outputs": [],
   "source": [
    "def load(filename):\n",
    "    np_image = Image.open(filename)\n",
    "    np_image = np.array(np_image).astype('float32')/255\n",
    "    np_image = transform.resize(np_image, (480, 480, 3))\n",
    "    np_image = np.expand_dims(np_image, axis=0)\n",
    "    return np_image"
   ]
  },
  {
   "cell_type": "code",
   "execution_count": 16,
   "metadata": {},
   "outputs": [],
   "source": [
    "image = load('C:\\\\Users\\\\Gesang\\\\Desktop\\\\Dataset Beras\\\\Test\\\\Pera\\\\IMG20221215140845.jpg')"
   ]
  },
  {
   "cell_type": "code",
   "execution_count": 17,
   "metadata": {},
   "outputs": [
    {
     "name": "stdout",
     "output_type": "stream",
     "text": [
      "1/1 [==============================] - 2s 2s/step\n",
      "[[0.98702765 0.01297234]]\n"
     ]
    }
   ],
   "source": [
    "predict = model.predict(image)\n",
    "print(predict)"
   ]
  },
  {
   "cell_type": "code",
   "execution_count": 18,
   "metadata": {},
   "outputs": [
    {
     "name": "stdout",
     "output_type": "stream",
     "text": [
      "1/1 [==============================] - 0s 345ms/step\n",
      "[[1 0]]\n",
      "1/1 [==============================] - 0s 359ms/step\n",
      "[[1 0]]\n",
      "1/1 [==============================] - 0s 357ms/step\n",
      "[[1 0]]\n",
      "1/1 [==============================] - 0s 344ms/step\n",
      "[[1 0]]\n",
      "1/1 [==============================] - 0s 450ms/step\n",
      "[[1 0]]\n",
      "\n",
      "\n",
      "\n",
      "1/1 [==============================] - 0s 342ms/step\n",
      "[[0 1]]\n",
      "1/1 [==============================] - 0s 349ms/step\n",
      "[[0 1]]\n",
      "1/1 [==============================] - 0s 361ms/step\n",
      "[[0 1]]\n",
      "1/1 [==============================] - 0s 395ms/step\n",
      "[[0 1]]\n",
      "1/1 [==============================] - 0s 347ms/step\n",
      "[[0 1]]\n"
     ]
    }
   ],
   "source": [
    "import os\n",
    "\n",
    "os.chdir('C:\\\\Users\\\\Gesang\\\\Desktop\\\\Dataset Beras\\\\Test\\\\Pera')\n",
    "\n",
    "for f in os.listdir():\n",
    "    file_name, file_ext = os.path.splitext(f)\n",
    "    if file_ext == '.jpg':\n",
    "        images = file_name\n",
    "        image = load(f'C:\\\\Users\\\\Gesang\\\\Desktop\\\\Dataset Beras\\\\Test\\\\Pera\\\\{images}.jpg')\n",
    "        predict = model.predict(image)\n",
    "        predict_labels =  np.where(predict > 0.5,1,0)\n",
    "        print(predict_labels)\n",
    "print(\"\\n\\n\")\n",
    "os.chdir('C:\\\\Users\\\\Gesang\\\\Desktop\\\\Dataset Beras\\\\Test\\\\Pulen')\n",
    "for f in os.listdir():\n",
    "    file_name, file_ext = os.path.splitext(f)\n",
    "    if file_ext == '.jpg':\n",
    "        images = file_name\n",
    "        image = load(f'C:\\\\Users\\\\Gesang\\\\Desktop\\\\Dataset Beras\\\\Test\\\\Pulen\\\\{images}.jpg')\n",
    "        predict1 = model.predict(image)\n",
    "        predict_labels =  np.where(predict1 > 0.5,1,0)\n",
    "        print(predict_labels)"
   ]
  },
  {
   "cell_type": "markdown",
   "metadata": {},
   "source": [
    "Hasil output yang didapatkan dari model dengan pre-trained model Inception sudah dapat dibilang bagus. "
   ]
  }
 ],
 "metadata": {
  "kernelspec": {
   "display_name": "Python 3",
   "language": "python",
   "name": "python3"
  },
  "language_info": {
   "codemirror_mode": {
    "name": "ipython",
    "version": 3
   },
   "file_extension": ".py",
   "mimetype": "text/x-python",
   "name": "python",
   "nbconvert_exporter": "python",
   "pygments_lexer": "ipython3",
   "version": "3.9.3"
  },
  "vscode": {
   "interpreter": {
    "hash": "131ee9671001f18265d9cddefbb26a46a43e7252fbba2e773d0cb36a567deea1"
   }
  }
 },
 "nbformat": 4,
 "nbformat_minor": 4
}
