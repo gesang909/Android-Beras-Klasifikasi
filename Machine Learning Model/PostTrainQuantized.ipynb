{
 "cells": [
  {
   "cell_type": "code",
   "execution_count": 1,
   "id": "c6b47dc2-01ba-46bb-87aa-157b71b66f2f",
   "metadata": {},
   "outputs": [],
   "source": [
    "import tensorflow as tf"
   ]
  },
  {
   "cell_type": "code",
   "execution_count": 6,
   "id": "30d48829-1e0c-43e1-9283-95a275c36c2d",
   "metadata": {},
   "outputs": [],
   "source": [
    "saved_model_path= \"C:\\\\Users\\\\Gesang\\\\Documents\\\\SMT 7\\\\Prak ML\\\\Portofolio\\\\saved_models_6\\\\modelbaru.h5\"\n",
    "loaded_model= tf.keras.models.load_model(saved_model_path)"
   ]
  },
  {
   "cell_type": "code",
   "execution_count": 2,
   "id": "86ea3e00-0815-42ea-b737-9e6ab31cfabe",
   "metadata": {},
   "outputs": [],
   "source": [
    "converter = tf.lite.TFLiteConverter.from_saved_model(\"./saved_models_10\")\n",
    "tflite_model = converter.convert()"
   ]
  },
  {
   "cell_type": "code",
   "execution_count": 3,
   "id": "f4cb2982-6b45-4d72-b163-bf14db71d3d9",
   "metadata": {},
   "outputs": [
    {
     "data": {
      "text/plain": [
       "795969168"
      ]
     },
     "execution_count": 3,
     "metadata": {},
     "output_type": "execute_result"
    }
   ],
   "source": [
    "len(tflite_model)"
   ]
  },
  {
   "cell_type": "code",
   "execution_count": 4,
   "id": "7bdfaf1d-e062-45d6-aa60-d6c5acb2a06d",
   "metadata": {},
   "outputs": [],
   "source": [
    "converter.optimizations = [tf.lite.Optimize.DEFAULT]\n",
    "tflite_quant_model2 = converter.convert()"
   ]
  },
  {
   "cell_type": "code",
   "execution_count": 5,
   "id": "ae790f95-af4f-48c3-b2ce-ecffe05ca905",
   "metadata": {},
   "outputs": [
    {
     "data": {
      "text/plain": [
       "199295448"
      ]
     },
     "execution_count": 5,
     "metadata": {},
     "output_type": "execute_result"
    }
   ],
   "source": [
    "len(tflite_quant_model2)"
   ]
  },
  {
   "cell_type": "code",
   "execution_count": 6,
   "id": "b9f18412-29e1-46f3-ba53-15115ad7af46",
   "metadata": {},
   "outputs": [],
   "source": [
    "with open(\"tflitemodelberasklasifikasi.tflite\", \"wb\") as f:\n",
    "    f.write(tflite_quant_model2)"
   ]
  },
  {
   "cell_type": "markdown",
   "id": "ad66a113-f276-4473-a54c-045a8b67c9f6",
   "metadata": {},
   "source": [
    "Quantization Aware Training"
   ]
  },
  {
   "cell_type": "code",
   "execution_count": 15,
   "id": "41a21995-7060-4707-8141-3cb8bf0ec50c",
   "metadata": {},
   "outputs": [],
   "source": []
  },
  {
   "cell_type": "code",
   "execution_count": null,
   "id": "9f695d73-3848-4b3e-926f-6cea8341ef74",
   "metadata": {},
   "outputs": [],
   "source": []
  }
 ],
 "metadata": {
  "kernelspec": {
   "display_name": "Python 3",
   "language": "python",
   "name": "python3"
  },
  "language_info": {
   "codemirror_mode": {
    "name": "ipython",
    "version": 3
   },
   "file_extension": ".py",
   "mimetype": "text/x-python",
   "name": "python",
   "nbconvert_exporter": "python",
   "pygments_lexer": "ipython3",
   "version": "3.9.3"
  }
 },
 "nbformat": 4,
 "nbformat_minor": 5
}
